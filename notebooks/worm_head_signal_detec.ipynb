{
  "cells": [
    {
      "cell_type": "markdown",
      "id": "anZf0Omp8uOc",
      "metadata": {
        "id": "anZf0Omp8uOc"
      },
      "source": [
        "# colab-WormHeadCounter v0.1\n",
        "\n",
        "This model is fine-tuned to detect the head of the worm and count fluorescent signals in specific reporter images.\n",
        "\n",
        "Performance with a different reporter cannot be guaranteed.\n",
        "\n",
        "1.   Upload your images in one directory 📁\n",
        "2.   Select pretrained model\n",
        "3.   Set parameters\n",
        "4.   Runtime > Run all\n",
        "5.   Download results directory\n",
        "\n",
        "Any question? Ask to Youngjun 🤗"
      ]
    },
    {
      "cell_type": "code",
      "execution_count": null,
      "id": "520ba867-c565-453b-91f7-282fe4f774d2",
      "metadata": {
        "cellView": "form",
        "id": "520ba867-c565-453b-91f7-282fe4f774d2"
      },
      "outputs": [],
      "source": [
        "#@title Set parameters and `Runtime` -> `Run all`\n",
        "from google.colab import files\n",
        "import os\n",
        "import re\n",
        "import hashlib\n",
        "import random\n",
        "import glob\n",
        "\n",
        "from sys import version_info\n",
        "python_version = f\"{version_info.major}.{version_info.minor}\"\n",
        "\n",
        "def add_hash(x,y):\n",
        "  return x+\"_\"+hashlib.sha1(y.encode()).hexdigest()[:5]\n",
        "\n",
        "pretrained_model_name = \"ypark-bioinfo/segformer-b5-finetuned-ce-head-image_ver1.1\" #@param ['ypark-bioinfo/segformer-b5-finetuned-ce-head-image_ver1.1'] {type:\"string\"}\n",
        "brightness = 50 #@param [100, 70, 50, 30, 10] {type:\"raw\"}\n",
        "#@markdown - It changes the minimum signal of the image before min-max normalization.\n",
        "minimun_head_size = 7500 #@param {type:\"raw\"}\n",
        "#@markdown - It changes the minimum head size to detect.\n",
        "min_distance = 2 #@param {type:\"raw\"}\n",
        "#@markdown - The pixel distance between signal peaks affects the total number of detected peaks. (recommend value: 1~10)\n",
        "threshold_abs = 0.35 #@param {type:\"raw\"}\n",
        "#@markdown - The peak detection threshold affects the total number of detected peaks. (recommend value: 0.05~0.50)\n",
        "raw_image_directory = '/content/test_images' #@param {type:\"raw\"}\n",
        "#@markdown - Please provide the location of the images."
      ]
    },
    {
      "cell_type": "markdown",
      "source": [
        "# Check the results folder"
      ],
      "metadata": {
        "id": "WPnXUyrA8sIj"
      },
      "id": "WPnXUyrA8sIj"
    },
    {
      "cell_type": "markdown",
      "source": [
        "## Utils"
      ],
      "metadata": {
        "id": "i1nbT4EY_JQg"
      },
      "id": "i1nbT4EY_JQg"
    },
    {
      "cell_type": "code",
      "source": [
        "import glob\n",
        "import os\n",
        "import numpy as np\n",
        "import pandas as pd\n",
        "import matplotlib.pyplot as plt\n",
        "import skimage\n",
        "from scipy import ndimage as ndi\n",
        "from skimage.feature import peak_local_max\n",
        "from skimage.morphology import erosion\n",
        "from skimage.morphology import footprint_rectangle\n",
        "import matplotlib.patches as mpatches\n",
        "from skimage.measure import label, regionprops\n",
        "from skimage.segmentation import clear_border\n",
        "\n",
        "def show_mask(mask, ax, random_color=False):\n",
        "    if random_color:\n",
        "        color = np.concatenate([np.random.random(3), np.array([0.6])], axis=0)\n",
        "    else:\n",
        "        color = np.array([255/255, 144/255, 30/255, 0.7])\n",
        "    h, w = mask.shape[:2]\n",
        "    x = np.where(mask >0, 1, 0)\n",
        "    mask =x\n",
        "    mask_image = np.uint8(mask[:,:,0].reshape(h,w,1)*255 * color.reshape(1, 1, -1))\n",
        "    #print(np.uint8(mask_image))\n",
        "\n",
        "    ax.imshow(mask_image, interpolation='none')\n",
        "\n",
        "\n",
        "def get_results(_test_images,\n",
        "                image_names,\n",
        "                output_dir,\n",
        "                ml_mask=2,\n",
        "                minimun_head_size=150,\n",
        "                bg_to_remove_level=3,\n",
        "                min_distance=10,\n",
        "                threshold_abs=0.35,\n",
        "                bg_max_value=160,\n",
        "\n",
        "               ):\n",
        "    out_results = []\n",
        "\n",
        "    if os.path.exists(f'{os.path.join(output_dir,f\"Summary_label_{ml_mask}_mindist_{min_distance}_thrsh_{threshold_abs}\")}.csv'):\n",
        "        print('PASS! Summary already exists')\n",
        "        return\n",
        "\n",
        "    for _i in range(len(_test_images)):\n",
        "        test_image = _test_images[_i]\n",
        "        filename = os.path.basename(image_names[_i]).rstrip('.image.png')\n",
        "\n",
        "        x = np.array(test_image[ml_mask])\n",
        "        vis = np.where(x == 1, 255,0)\n",
        "        if len(x.shape) == 2:\n",
        "            x = np.repeat(np.expand_dims(x, 2), 3, axis=2)\n",
        "\n",
        "        label_mask = label(x, connectivity=1)\n",
        "        region_box = regionprops(label_mask)\n",
        "\n",
        "        number_of_heads = len(region_box)\n",
        "        print(number_of_heads)\n",
        "        head_id = 0\n",
        "        for region_index in range(number_of_heads):\n",
        "            mask_patch = np.where(label_mask == region_index+1, 1,0)\n",
        "\n",
        "            if np.sum(mask_patch) < minimun_head_size:\n",
        "                print('skip due to min head size')\n",
        "                continue\n",
        "\n",
        "            head_id += 1\n",
        "\n",
        "            region = region_box[region_index]\n",
        "            minr, minc, _, maxr, maxc, _ = region.bbox\n",
        "            rect = mpatches.Rectangle(\n",
        "                (minc, minr),\n",
        "                maxc - minc,\n",
        "                maxr - minr,\n",
        "                fill=False,\n",
        "                edgecolor='red',\n",
        "                linewidth=2,\n",
        "            )\n",
        "\n",
        "            fig, axes = plt.subplots(1,4,  figsize=(13,3))\n",
        "            axes[0].imshow(np.array(test_image[0]))\n",
        "            axes[1].imshow(vis)\n",
        "            axes[1].add_patch(rect)\n",
        "            axes[1].set_title(f'#{head_id}')\n",
        "\n",
        "            orig_patch = test_image[0][minr:maxr,minc:maxc]\n",
        "            mask_patch = mask_patch[minr:maxr,minc:maxc,1]\n",
        "            mask_patch = erosion(mask_patch,  footprint_rectangle((20, 20)))\n",
        "\n",
        "            if len(orig_patch.shape) > 2:\n",
        "              orig_patch = orig_patch[:,:,0]\n",
        "            filt_patch = np.where(mask_patch == 1, orig_patch, 0)\n",
        "            try:\n",
        "              br_level = min(bg_to_remove_level, len(np.unique(filt_patch)-1))\n",
        "              bg_min = np.unique(filt_patch)[br_level]\n",
        "            except:\n",
        "              bg_min = np.unique(filt_patch)[0]\n",
        "            bg_max = bg_max_value\n",
        "            norm_patch = np.where(filt_patch > bg_max, bg_max, filt_patch)\n",
        "            norm_patch = np.where(norm_patch < bg_min, bg_min, norm_patch)\n",
        "            norm_patch = (norm_patch-bg_min)/(bg_max-bg_min)\n",
        "            axes[2].imshow(orig_patch)\n",
        "            axes[2].autoscale(False)\n",
        "\n",
        "            #norm_patch = skimage.filters.gaussian(norm_patch, sigma=5)\n",
        "            #axes[4].imshow(norm_patch)\n",
        "\n",
        "            # Comparison between image_max and im to find the coordinates of local maxima\n",
        "            coordinates = peak_local_max(norm_patch, min_distance=min_distance, threshold_abs=threshold_abs, threshold_rel=0.35)\n",
        "            final_coord = []\n",
        "            for x in coordinates:\n",
        "                if mask_patch[x[0], x[1]] != 1:\n",
        "                    continue\n",
        "                else:\n",
        "                    final_coord.append(x)\n",
        "            final_coord = np.array(final_coord)\n",
        "            axes[3].imshow(orig_patch)\n",
        "            axes[3].autoscale(False)\n",
        "            if len(final_coord) >0:\n",
        "                axes[3].plot(final_coord[:, 1], final_coord[:, 0], 'r.')\n",
        "\n",
        "            plt.title(f'{filename}-{head_id}:{len(final_coord)}')\n",
        "\n",
        "            plot_name = f'prediction_file_{filename}_label_{ml_mask}_numofheads_{number_of_heads}_headid_{head_id}_minheadsize_{minimun_head_size}_bg_{bg_to_remove_level}_mindist_{min_distance}_thrsh_{threshold_abs}.png'\n",
        "            out_results.append({'filename': filename,\n",
        "                                'label': ml_mask,\n",
        "                                'num_of_heads': number_of_heads,\n",
        "                                'head_id': head_id,\n",
        "                                'head_size': np.sum(mask_patch),\n",
        "                                'peak_cnt': len(final_coord),\n",
        "                                'peak_per_60k_pixels': len(final_coord)/np.sum(mask_patch)*60000,\n",
        "                                'minimun_head_size': minimun_head_size,\n",
        "                                'bg_to_remove_level': bg_to_remove_level,\n",
        "                                'min_distance': min_distance,\n",
        "                                'threshold_abs': threshold_abs,\n",
        "                                'output_image_name': plot_name,\n",
        "                               })\n",
        "            axes[0].axis(\"off\")\n",
        "            axes[1].axis(\"off\")\n",
        "            axes[2].axis(\"off\")\n",
        "            axes[3].axis(\"off\")\n",
        "            plt.savefig(f'{os.path.join(output_dir, plot_name)}')\n",
        "            plt.close(fig)\n",
        "    pd.DataFrame.from_dict(out_results).to_csv(f'{os.path.join(output_dir,f\"Summary_label_{ml_mask}_mindist_{min_distance}_thrsh_{threshold_abs}\")}.csv')"
      ],
      "metadata": {
        "id": "oikqEo4hovwt"
      },
      "id": "oikqEo4hovwt",
      "execution_count": null,
      "outputs": []
    },
    {
      "cell_type": "markdown",
      "source": [
        "## Image preprocessing"
      ],
      "metadata": {
        "id": "hVZJb4Ee_Rzq"
      },
      "id": "hVZJb4Ee_Rzq"
    },
    {
      "cell_type": "code",
      "source": [
        "import cv2\n",
        "import glob\n",
        "import os\n",
        "import numpy as np\n",
        "\n",
        "output_dir = \"./processed_images\"\n",
        "os.makedirs(output_dir, exist_ok=True)\n",
        "\n",
        "image_list = glob.glob(f\"{raw_image_directory}/*\")\n",
        "for target_image in image_list:\n",
        "    cv_x = cv2.imread(f'{target_image}', cv2.IMREAD_ANYDEPTH )\n",
        "\n",
        "    cv_x = np.repeat(cv_x[..., np.newaxis], 3, -1)\n",
        "    print(np.min(cv_x))\n",
        "    min_value = np.min(cv_x) - brightness\n",
        "    min_value = max(min_value, 0)\n",
        "    cv_x = (cv_x - min_value) / (np.max(cv_x) - min_value) *255.0\n",
        "    print(target_image, np.max(cv_x), np.min(cv_x))\n",
        "    #cv2.imwrite(f'{os.path.join(save_root,img_id)}.image.png', img_to_write)\n",
        "\n",
        "    cv2.imwrite(f'{os.path.join(output_dir,os.path.basename(target_image))}.png', cv_x)"
      ],
      "metadata": {
        "id": "44-tPN0jrZPO"
      },
      "id": "44-tPN0jrZPO",
      "execution_count": null,
      "outputs": []
    },
    {
      "cell_type": "code",
      "source": [
        "import glob\n",
        "import datasets\n",
        "\n",
        "IMAGES = glob.glob(f\"/content/processed_images/*\")\n",
        "IMAGES = sorted(IMAGES)\n",
        "print(IMAGES)\n",
        "SEG_MAPS = IMAGES\n",
        "SEG_MAPS = sorted(SEG_MAPS)\n",
        "target_ds = datasets.Dataset.from_dict({\"pixel_values\": sorted(IMAGES), \"label\": sorted(SEG_MAPS), }, features=datasets.Features({\"pixel_values\": datasets.Image(), \"label\": datasets.Image(),}))\n",
        "target_ds"
      ],
      "metadata": {
        "id": "JBhN6BjZn5m0"
      },
      "id": "JBhN6BjZn5m0",
      "execution_count": null,
      "outputs": []
    },
    {
      "cell_type": "markdown",
      "source": [
        "## 🤗 Model download"
      ],
      "metadata": {
        "id": "IUHUnLtu_MdS"
      },
      "id": "IUHUnLtu_MdS"
    },
    {
      "cell_type": "code",
      "source": [
        "from transformers import SegformerForSemanticSegmentation\n",
        "from transformers import SegformerImageProcessor\n",
        "\n",
        "import torch\n",
        "device = torch.device(\"cuda:0\" if torch.cuda.is_available() else \"cpu\")\n",
        "\n",
        "id2label = {1: 'head', 0:'bg'}\n",
        "label2id = {label: id for id, label in id2label.items()}\n",
        "\n",
        "num_labels = len(id2label)\n",
        "\n",
        "\n",
        "model = SegformerForSemanticSegmentation.from_pretrained(\n",
        "    pretrained_model_name,\n",
        "    #num_labels=num_labels,\n",
        "    id2label=id2label,\n",
        "    label2id=label2id,\n",
        "    ignore_mismatched_sizes=True,\n",
        ")\n",
        "model.to(device)\n",
        "model.eval()\n",
        "\n",
        "baseline_model_name = \"nvidia/mit-b5\"\n",
        "processor = SegformerImageProcessor.from_pretrained(baseline_model_name)#, do_reduce_labels=True)\n"
      ],
      "metadata": {
        "id": "aafpucutk1wP"
      },
      "id": "aafpucutk1wP",
      "execution_count": null,
      "outputs": []
    },
    {
      "cell_type": "markdown",
      "source": [
        "## Inference"
      ],
      "metadata": {
        "id": "QW-MBnAQ_cmi"
      },
      "id": "QW-MBnAQ_cmi"
    },
    {
      "cell_type": "code",
      "source": [
        "import matplotlib.patches as mpatches\n",
        "from skimage.measure import label, regionprops\n",
        "from skimage.segmentation import clear_border\n",
        "import numpy as np\n",
        "\n",
        "test_images = []\n",
        "\n",
        "for _i in range(len(target_ds)):\n",
        "    vis_index = _i\n",
        "    image = target_ds[vis_index]['pixel_values']\n",
        "\n",
        "    inputs = processor(images=image.convert(\"RGB\"), return_tensors=\"pt\")\n",
        "    inputs= inputs.to(device)\n",
        "    outputs = model(**inputs)\n",
        "    new_mask = processor.post_process_semantic_segmentation(outputs, target_sizes=[np.array(image).shape[:2]])\n",
        "    m = new_mask[0].cpu().detach().numpy()\n",
        "\n",
        "    test_images.append((np.array(target_ds[vis_index]['pixel_values']),\n",
        "                       np.array(target_ds[vis_index]['label']),\n",
        "                               m))"
      ],
      "metadata": {
        "id": "02ghpAimmazS"
      },
      "id": "02ghpAimmazS",
      "execution_count": null,
      "outputs": []
    },
    {
      "cell_type": "code",
      "source": [
        "output_dir = \"./results\"\n",
        "os.makedirs(output_dir, exist_ok=True)\n",
        "\n",
        "get_results(test_images, IMAGES, output_dir, min_distance=min_distance, threshold_abs=threshold_abs, minimun_head_size=minimun_head_size)"
      ],
      "metadata": {
        "id": "yGxwPGZ2o2bm"
      },
      "id": "yGxwPGZ2o2bm",
      "execution_count": null,
      "outputs": []
    }
  ],
  "metadata": {
    "colab": {
      "collapsed_sections": [
        "WPnXUyrA8sIj",
        "i1nbT4EY_JQg",
        "hVZJb4Ee_Rzq",
        "IUHUnLtu_MdS",
        "QW-MBnAQ_cmi"
      ],
      "provenance": []
    },
    "kernelspec": {
      "display_name": "Python 3 (ipykernel)",
      "language": "python",
      "name": "python3"
    },
    "language_info": {
      "codemirror_mode": {
        "name": "ipython",
        "version": 3
      },
      "file_extension": ".py",
      "mimetype": "text/x-python",
      "name": "python",
      "nbconvert_exporter": "python",
      "pygments_lexer": "ipython3",
      "version": "3.9.7"
    }
  },
  "nbformat": 4,
  "nbformat_minor": 5
}